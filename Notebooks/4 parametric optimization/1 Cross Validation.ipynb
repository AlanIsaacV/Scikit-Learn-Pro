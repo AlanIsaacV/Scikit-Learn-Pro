{
 "metadata": {
  "language_info": {
   "codemirror_mode": {
    "name": "ipython",
    "version": 3
   },
   "file_extension": ".py",
   "mimetype": "text/x-python",
   "name": "python",
   "nbconvert_exporter": "python",
   "pygments_lexer": "ipython3",
   "version": 3
  },
  "orig_nbformat": 2,
  "kernelspec": {
   "name": "python_defaultSpec_1595174910198",
   "display_name": "Python 3.7.6 64-bit ('ai': conda)"
  }
 },
 "nbformat": 4,
 "nbformat_minor": 2,
 "cells": [
  {
   "cell_type": "code",
   "execution_count": 1,
   "metadata": {},
   "outputs": [],
   "source": [
    "from IPython.display import display\n",
    "\n",
    "import pandas as pd\n",
    "import numpy as np\n",
    "\n",
    "from sklearn.tree import DecisionTreeRegressor\n",
    "\n",
    "from sklearn.model_selection import cross_val_score, KFold"
   ]
  },
  {
   "cell_type": "code",
   "execution_count": 2,
   "metadata": {
    "tags": []
   },
   "outputs": [
    {
     "output_type": "stream",
     "name": "stdout",
     "text": "<class 'pandas.core.frame.DataFrame'>\nRangeIndex: 155 entries, 0 to 154\nData columns (total 12 columns):\n #   Column      Non-Null Count  Dtype  \n---  ------      --------------  -----  \n 0   country     155 non-null    object \n 1   rank        155 non-null    int64  \n 2   score       155 non-null    float64\n 3   high        155 non-null    float64\n 4   low         155 non-null    float64\n 5   gdp         155 non-null    float64\n 6   family      155 non-null    float64\n 7   lifexp      155 non-null    float64\n 8   freedom     155 non-null    float64\n 9   generosity  155 non-null    float64\n 10  corruption  155 non-null    float64\n 11  dystopia    155 non-null    float64\ndtypes: float64(10), int64(1), object(1)\nmemory usage: 14.7+ KB\n"
    },
    {
     "output_type": "display_data",
     "data": {
      "text/plain": "None"
     },
     "metadata": {}
    },
    {
     "output_type": "execute_result",
     "data": {
      "text/plain": "   country  rank  score      high       low       gdp    family    lifexp  \\\n0   Norway     1  7.537  7.594445  7.479556  1.616463  1.533524  0.796667   \n1  Denmark     2  7.522  7.581728  7.462272  1.482383  1.551122  0.792566   \n\n    freedom  generosity  corruption  dystopia  \n0  0.635423    0.362012    0.315964  2.277027  \n1  0.626007    0.355280    0.400770  2.313707  ",
      "text/html": "<div>\n<style scoped>\n    .dataframe tbody tr th:only-of-type {\n        vertical-align: middle;\n    }\n\n    .dataframe tbody tr th {\n        vertical-align: top;\n    }\n\n    .dataframe thead th {\n        text-align: right;\n    }\n</style>\n<table border=\"1\" class=\"dataframe\">\n  <thead>\n    <tr style=\"text-align: right;\">\n      <th></th>\n      <th>country</th>\n      <th>rank</th>\n      <th>score</th>\n      <th>high</th>\n      <th>low</th>\n      <th>gdp</th>\n      <th>family</th>\n      <th>lifexp</th>\n      <th>freedom</th>\n      <th>generosity</th>\n      <th>corruption</th>\n      <th>dystopia</th>\n    </tr>\n  </thead>\n  <tbody>\n    <tr>\n      <th>0</th>\n      <td>Norway</td>\n      <td>1</td>\n      <td>7.537</td>\n      <td>7.594445</td>\n      <td>7.479556</td>\n      <td>1.616463</td>\n      <td>1.533524</td>\n      <td>0.796667</td>\n      <td>0.635423</td>\n      <td>0.362012</td>\n      <td>0.315964</td>\n      <td>2.277027</td>\n    </tr>\n    <tr>\n      <th>1</th>\n      <td>Denmark</td>\n      <td>2</td>\n      <td>7.522</td>\n      <td>7.581728</td>\n      <td>7.462272</td>\n      <td>1.482383</td>\n      <td>1.551122</td>\n      <td>0.792566</td>\n      <td>0.626007</td>\n      <td>0.355280</td>\n      <td>0.400770</td>\n      <td>2.313707</td>\n    </tr>\n  </tbody>\n</table>\n</div>"
     },
     "metadata": {},
     "execution_count": 2
    }
   ],
   "source": [
    "df = pd.read_csv('../../data/felicidad.csv')\n",
    "\n",
    "display(df.info())\n",
    "df.head(2)"
   ]
  },
  {
   "cell_type": "code",
   "execution_count": 3,
   "metadata": {},
   "outputs": [],
   "source": [
    "y = df['score']\n",
    "x = df.drop(columns=['country', 'score'])"
   ]
  },
  {
   "cell_type": "code",
   "execution_count": 4,
   "metadata": {},
   "outputs": [
    {
     "output_type": "execute_result",
     "data": {
      "text/plain": "dict_keys(['explained_variance', 'r2', 'max_error', 'neg_median_absolute_error', 'neg_mean_absolute_error', 'neg_mean_squared_error', 'neg_mean_squared_log_error', 'neg_root_mean_squared_error', 'neg_mean_poisson_deviance', 'neg_mean_gamma_deviance', 'accuracy', 'roc_auc', 'roc_auc_ovr', 'roc_auc_ovo', 'roc_auc_ovr_weighted', 'roc_auc_ovo_weighted', 'balanced_accuracy', 'average_precision', 'neg_log_loss', 'neg_brier_score', 'adjusted_rand_score', 'homogeneity_score', 'completeness_score', 'v_measure_score', 'mutual_info_score', 'adjusted_mutual_info_score', 'normalized_mutual_info_score', 'fowlkes_mallows_score', 'precision', 'precision_macro', 'precision_micro', 'precision_samples', 'precision_weighted', 'recall', 'recall_macro', 'recall_micro', 'recall_samples', 'recall_weighted', 'f1', 'f1_macro', 'f1_micro', 'f1_samples', 'f1_weighted', 'jaccard', 'jaccard_macro', 'jaccard_micro', 'jaccard_samples', 'jaccard_weighted'])"
     },
     "metadata": {},
     "execution_count": 4
    }
   ],
   "source": [
    "from sklearn.metrics import SCORERS\n",
    "SCORERS.keys()"
   ]
  },
  {
   "cell_type": "code",
   "execution_count": 5,
   "metadata": {
    "tags": []
   },
   "outputs": [
    {
     "output_type": "stream",
     "name": "stdout",
     "text": "[-0.8214714  -0.1572114  -0.94866638]\n64.24%\n"
    }
   ],
   "source": [
    "score = cross_val_score(DecisionTreeRegressor(), x, y, cv=3, scoring='neg_mean_squared_error')\n",
    "print(score)\n",
    "print('{:.2%}'.format( np.abs(np.mean(score)) ) )"
   ]
  },
  {
   "cell_type": "code",
   "execution_count": 6,
   "metadata": {
    "tags": []
   },
   "outputs": [
    {
     "output_type": "stream",
     "name": "stdout",
     "text": "TRAIN: (103,) \n[  0   1   2   3   4   6   7   8   9  10  11  12  13  15  20  21  22  23\n  24  25  26  27  30  32  34  36  37  38  39  41  43  45  46  47  49  50\n  52  55  57  60  61  62  63  64  65  67  68  70  71  72  74  76  79  80\n  81  82  83  84  85  86  87  88  91  95  96  97  98 100 101 102 103 106\n 107 108 110 112 113 114 115 116 118 119 120 121 126 128 129 130 132 133\n 134 136 137 139 140 141 143 144 146 148 150 152 154] \n\nTEST: (52,) \n[  5  14  16  17  18  19  28  29  31  33  35  40  42  44  48  51  53  54\n  56  58  59  66  69  73  75  77  78  89  90  92  93  94  99 104 105 109\n 111 117 122 123 124 125 127 131 135 138 142 145 147 149 151 153]\n\n\nTRAIN: (103,) \n[  1   3   5   7   8  13  14  16  17  18  19  20  21  22  24  25  26  28\n  29  30  31  33  35  37  40  41  42  43  44  47  48  49  50  51  52  53\n  54  56  57  58  59  60  61  63  66  68  69  70  71  72  73  75  76  77\n  78  79  80  82  86  88  89  90  92  93  94  96  99 101 104 105 106 109\n 111 115 117 118 121 122 123 124 125 127 128 129 131 132 133 134 135 137\n 138 139 140 141 142 144 145 146 147 149 151 152 153] \n\nTEST: (52,) \n[  0   2   4   6   9  10  11  12  15  23  27  32  34  36  38  39  45  46\n  55  62  64  65  67  74  81  83  84  85  87  91  95  97  98 100 102 103\n 107 108 110 112 113 114 116 119 120 126 130 136 143 148 150 154]\n\n\nTRAIN: (104,) \n[  0   2   4   5   6   9  10  11  12  14  15  16  17  18  19  23  27  28\n  29  31  32  33  34  35  36  38  39  40  42  44  45  46  48  51  53  54\n  55  56  58  59  62  64  65  66  67  69  73  74  75  77  78  81  83  84\n  85  87  89  90  91  92  93  94  95  97  98  99 100 102 103 104 105 107\n 108 109 110 111 112 113 114 116 117 119 120 122 123 124 125 126 127 130\n 131 135 136 138 142 143 145 147 148 149 150 151 153 154] \n\nTEST: (51,) \n[  1   3   7   8  13  20  21  22  24  25  26  30  37  41  43  47  49  50\n  52  57  60  61  63  68  70  71  72  76  79  80  82  86  88  96 101 106\n 115 118 121 128 129 132 133 134 137 139 140 141 144 146 152]\n\n\n"
    }
   ],
   "source": [
    "kfold = KFold(n_splits=3, shuffle=True, random_state=1)\n",
    "for train, test in kfold.split(df):\n",
    "    print(f'TRAIN: {train.shape} \\n{train} \\n\\nTEST: {test.shape} \\n{test}\\n\\n')"
   ]
  }
 ]
}