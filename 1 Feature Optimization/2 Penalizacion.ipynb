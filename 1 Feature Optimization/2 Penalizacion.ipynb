{
 "cells": [
  {
   "cell_type": "code",
   "execution_count": 1,
   "metadata": {},
   "outputs": [],
   "source": [
    "from IPython.display import display\n",
    "import pandas as pd\n",
    "import numpy as np\n",
    "import matplotlib.pyplot as plt\n",
    "import seaborn as sns\n",
    "\n",
    "from sklearn.linear_model import LinearRegression, Lasso, Ridge\n",
    "from sklearn.model_selection import train_test_split\n",
    "from sklearn.metrics import mean_squared_error\n",
    "\n",
    "%matplotlib inline"
   ]
  },
  {
   "cell_type": "code",
   "execution_count": 2,
   "metadata": {
    "tags": []
   },
   "outputs": [
    {
     "output_type": "stream",
     "name": "stdout",
     "text": "<class 'pandas.core.frame.DataFrame'>\nRangeIndex: 155 entries, 0 to 154\nData columns (total 12 columns):\n #   Column      Non-Null Count  Dtype  \n---  ------      --------------  -----  \n 0   country     155 non-null    object \n 1   rank        155 non-null    int64  \n 2   score       155 non-null    float64\n 3   high        155 non-null    float64\n 4   low         155 non-null    float64\n 5   gdp         155 non-null    float64\n 6   family      155 non-null    float64\n 7   lifexp      155 non-null    float64\n 8   freedom     155 non-null    float64\n 9   generosity  155 non-null    float64\n 10  corruption  155 non-null    float64\n 11  dystopia    155 non-null    float64\ndtypes: float64(10), int64(1), object(1)\nmemory usage: 14.7+ KB\n"
    },
    {
     "output_type": "display_data",
     "data": {
      "text/plain": "None"
     },
     "metadata": {}
    },
    {
     "output_type": "display_data",
     "data": {
      "text/plain": "   country  rank  score      high       low       gdp    family    lifexp  \\\n0   Norway     1  7.537  7.594445  7.479556  1.616463  1.533524  0.796667   \n1  Denmark     2  7.522  7.581728  7.462272  1.482383  1.551122  0.792566   \n\n    freedom  generosity  corruption  dystopia  \n0  0.635423    0.362012    0.315964  2.277027  \n1  0.626007    0.355280    0.400770  2.313707  ",
      "text/html": "<div>\n<style scoped>\n    .dataframe tbody tr th:only-of-type {\n        vertical-align: middle;\n    }\n\n    .dataframe tbody tr th {\n        vertical-align: top;\n    }\n\n    .dataframe thead th {\n        text-align: right;\n    }\n</style>\n<table border=\"1\" class=\"dataframe\">\n  <thead>\n    <tr style=\"text-align: right;\">\n      <th></th>\n      <th>country</th>\n      <th>rank</th>\n      <th>score</th>\n      <th>high</th>\n      <th>low</th>\n      <th>gdp</th>\n      <th>family</th>\n      <th>lifexp</th>\n      <th>freedom</th>\n      <th>generosity</th>\n      <th>corruption</th>\n      <th>dystopia</th>\n    </tr>\n  </thead>\n  <tbody>\n    <tr>\n      <th>0</th>\n      <td>Norway</td>\n      <td>1</td>\n      <td>7.537</td>\n      <td>7.594445</td>\n      <td>7.479556</td>\n      <td>1.616463</td>\n      <td>1.533524</td>\n      <td>0.796667</td>\n      <td>0.635423</td>\n      <td>0.362012</td>\n      <td>0.315964</td>\n      <td>2.277027</td>\n    </tr>\n    <tr>\n      <th>1</th>\n      <td>Denmark</td>\n      <td>2</td>\n      <td>7.522</td>\n      <td>7.581728</td>\n      <td>7.462272</td>\n      <td>1.482383</td>\n      <td>1.551122</td>\n      <td>0.792566</td>\n      <td>0.626007</td>\n      <td>0.355280</td>\n      <td>0.400770</td>\n      <td>2.313707</td>\n    </tr>\n  </tbody>\n</table>\n</div>"
     },
     "metadata": {}
    }
   ],
   "source": [
    "df = pd.read_csv('../data/felicidad.csv')\n",
    "display(df.info())\n",
    "display(df.head(2))"
   ]
  },
  {
   "cell_type": "code",
   "execution_count": 3,
   "metadata": {},
   "outputs": [
    {
     "output_type": "execute_result",
     "data": {
      "text/plain": "((155, 7), (155,), (108, 7), (47, 7))"
     },
     "metadata": {},
     "execution_count": 3
    }
   ],
   "source": [
    "x = df[['gdp', 'family', 'lifexp', 'freedom', 'corruption', 'generosity', 'dystopia']]\n",
    "y = df['score']\n",
    "\n",
    "x_train, x_test, y_train, y_test = train_test_split(x, y, test_size=0.3, random_state=1)\n",
    "\n",
    "x.shape, y.shape, x_train.shape, x_test.shape\n"
   ]
  },
  {
   "cell_type": "code",
   "execution_count": 4,
   "metadata": {},
   "outputs": [],
   "source": [
    "model_linear = LinearRegression().fit(x_train, y_train)\n",
    "y_hat_linear = model_linear.predict(x_test)\n",
    "\n",
    "model_lasso = Lasso(alpha=0.02).fit(x_train, y_train)\n",
    "y_hat_lasso = model_lasso.predict(x_test)\n",
    "\n",
    "model_ridge = Ridge(alpha=1).fit(x_train, y_train)\n",
    "y_hat_ridge = model_ridge.predict(x_test)\n"
   ]
  },
  {
   "cell_type": "code",
   "execution_count": 5,
   "metadata": {
    "tags": []
   },
   "outputs": [
    {
     "output_type": "stream",
     "name": "stdout",
     "text": "Linear: \nLOSS: 9.750765185081905e-08 \nSCORE: 0.9999999182374784 \nCOEF: [1.00014313 0.9999875  0.99969244 0.99991552 0.9999593  1.00022517\n 0.99998714]\n\nLasso: \nLOSS: 0.03181524450935537 \nSCORE: 0.9733221489205492 \nCOEF: [1.3139091  0.89008824 0.4497227  0.82012434 0.         0.32839722\n 0.89557344]\n\nRidge: \nLOSS: 0.004325157856236762 \nSCORE: 0.9963732506550478 \nCOEF: [1.08062593 0.95595475 0.85235651 0.88957098 0.66087502 0.76605749\n 0.95616033]\n\n"
    }
   ],
   "source": [
    "loss_linear = mean_squared_error(y_test, y_hat_linear)\n",
    "loss_lasso = mean_squared_error(y_test, y_hat_lasso)\n",
    "loss_ridge = mean_squared_error(y_test, y_hat_ridge)\n",
    "\n",
    "score_linear = model_linear.score(x_test, y_test)\n",
    "score_lasso = model_lasso.score(x_test, y_test)\n",
    "score_ridge = model_ridge.score(x_test, y_test)\n",
    "\n",
    "\n",
    "print(f'Linear: \\nLOSS: {loss_linear} \\nSCORE: {score_linear} \\nCOEF: {model_linear.coef_}\\n')\n",
    "print(f'Lasso: \\nLOSS: {loss_lasso} \\nSCORE: {score_lasso} \\nCOEF: {model_lasso.coef_}\\n')\n",
    "print(f'Ridge: \\nLOSS: {loss_ridge} \\nSCORE: {score_ridge} \\nCOEF: {model_ridge.coef_}\\n')"
   ]
  },
  {
   "cell_type": "code",
   "execution_count": null,
   "metadata": {},
   "outputs": [],
   "source": []
  }
 ],
 "metadata": {
  "language_info": {
   "codemirror_mode": {
    "name": "ipython",
    "version": 3
   },
   "file_extension": ".py",
   "mimetype": "text/x-python",
   "name": "python",
   "nbconvert_exporter": "python",
   "pygments_lexer": "ipython3",
   "version": "3.7.6-final"
  },
  "orig_nbformat": 2,
  "kernelspec": {
   "name": "python_defaultSpec_1594693999857",
   "display_name": "Python 3.7.6 64-bit ('ai': conda)"
  }
 },
 "nbformat": 4,
 "nbformat_minor": 2
}