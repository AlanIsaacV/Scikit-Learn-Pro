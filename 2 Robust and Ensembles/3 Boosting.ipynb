{
 "metadata": {
  "language_info": {
   "codemirror_mode": {
    "name": "ipython",
    "version": 3
   },
   "file_extension": ".py",
   "mimetype": "text/x-python",
   "name": "python",
   "nbconvert_exporter": "python",
   "pygments_lexer": "ipython3",
   "version": 3
  },
  "orig_nbformat": 2,
  "kernelspec": {
   "name": "python_defaultSpec_1595127475485",
   "display_name": "Python 3.7.6 64-bit ('ai': conda)"
  }
 },
 "nbformat": 4,
 "nbformat_minor": 2,
 "cells": [
  {
   "cell_type": "code",
   "execution_count": 1,
   "metadata": {},
   "outputs": [],
   "source": [
    "import pandas as pd\n",
    "\n",
    "from sklearn.ensemble import GradientBoostingClassifier\n",
    "\n",
    "from sklearn.metrics import accuracy_score\n",
    "from sklearn.model_selection import train_test_split\n",
    "from sklearn.neighbors import KNeighborsClassifier"
   ]
  },
  {
   "cell_type": "code",
   "execution_count": 2,
   "metadata": {},
   "outputs": [],
   "source": [
    "df = pd.read_csv('../data/heart.csv')\n",
    "x = df.drop(columns=['target'])\n",
    "y = df['target']\n",
    "\n",
    "x_train, x_test, y_train, y_test = train_test_split(x, y, test_size=0.3)"
   ]
  },
  {
   "cell_type": "code",
   "execution_count": 3,
   "metadata": {},
   "outputs": [
    {
     "output_type": "execute_result",
     "data": {
      "text/plain": "'71.10%'"
     },
     "metadata": {},
     "execution_count": 3
    }
   ],
   "source": [
    "model = KNeighborsClassifier().fit(x_train, y_train)\n",
    "y_hat = model.predict(x_test)\n",
    "\n",
    "accuracy = accuracy_score(y_test, y_hat)\n",
    "\n",
    "'{:.2%}'.format(accuracy)"
   ]
  },
  {
   "cell_type": "code",
   "execution_count": 5,
   "metadata": {},
   "outputs": [
    {
     "output_type": "execute_result",
     "data": {
      "text/plain": "'94.48%'"
     },
     "metadata": {},
     "execution_count": 5
    }
   ],
   "source": [
    "ensemble = GradientBoostingClassifier(n_estimators=50).fit(x_train, y_train)\n",
    "y_hat = ensemble.predict(x_test)\n",
    "accuracy = accuracy_score(y_test, y_hat)\n",
    "'{:.2%}'.format(accuracy)"
   ]
  }
 ]
}