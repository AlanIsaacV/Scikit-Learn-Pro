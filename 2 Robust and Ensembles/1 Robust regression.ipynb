{
 "cells": [
  {
   "cell_type": "code",
   "execution_count": 1,
   "metadata": {},
   "outputs": [],
   "source": [
    "from IPython.display import display\n",
    "\n",
    "import pandas as pd\n",
    "\n",
    "from sklearn.linear_model import RANSACRegressor, HuberRegressor\n",
    "from sklearn.metrics import mean_squared_error\n",
    "from sklearn.model_selection import train_test_split\n",
    "\n",
    "from sklearn.svm import SVR"
   ]
  },
  {
   "cell_type": "code",
   "execution_count": 2,
   "metadata": {
    "tags": []
   },
   "outputs": [
    {
     "output_type": "stream",
     "name": "stdout",
     "text": "<class 'pandas.core.frame.DataFrame'>\nRangeIndex: 167 entries, 0 to 166\nData columns (total 12 columns):\n #   Column      Non-Null Count  Dtype  \n---  ------      --------------  -----  \n 0   country     167 non-null    object \n 1   rank        167 non-null    int64  \n 2   score       167 non-null    float64\n 3   high        167 non-null    float64\n 4   low         167 non-null    float64\n 5   gdp         167 non-null    float64\n 6   family      167 non-null    float64\n 7   lifexp      167 non-null    float64\n 8   freedom     167 non-null    float64\n 9   generosity  167 non-null    float64\n 10  corruption  167 non-null    float64\n 11  dystopia    167 non-null    float64\ndtypes: float64(10), int64(1), object(1)\nmemory usage: 15.8+ KB\n"
    },
    {
     "output_type": "display_data",
     "data": {
      "text/plain": "None"
     },
     "metadata": {}
    },
    {
     "output_type": "display_data",
     "data": {
      "text/plain": "   country  rank  score      high       low       gdp    family    lifexp  \\\n0   Norway     1  7.537  7.594445  7.479556  1.616463  1.533524  0.796667   \n1  Denmark     2  7.522  7.581728  7.462272  1.482383  1.551122  0.792566   \n\n    freedom  generosity  corruption  dystopia  \n0  0.635423    0.362012    0.315964  2.277027  \n1  0.626007    0.355280    0.400770  2.313707  ",
      "text/html": "<div>\n<style scoped>\n    .dataframe tbody tr th:only-of-type {\n        vertical-align: middle;\n    }\n\n    .dataframe tbody tr th {\n        vertical-align: top;\n    }\n\n    .dataframe thead th {\n        text-align: right;\n    }\n</style>\n<table border=\"1\" class=\"dataframe\">\n  <thead>\n    <tr style=\"text-align: right;\">\n      <th></th>\n      <th>country</th>\n      <th>rank</th>\n      <th>score</th>\n      <th>high</th>\n      <th>low</th>\n      <th>gdp</th>\n      <th>family</th>\n      <th>lifexp</th>\n      <th>freedom</th>\n      <th>generosity</th>\n      <th>corruption</th>\n      <th>dystopia</th>\n    </tr>\n  </thead>\n  <tbody>\n    <tr>\n      <th>0</th>\n      <td>Norway</td>\n      <td>1</td>\n      <td>7.537</td>\n      <td>7.594445</td>\n      <td>7.479556</td>\n      <td>1.616463</td>\n      <td>1.533524</td>\n      <td>0.796667</td>\n      <td>0.635423</td>\n      <td>0.362012</td>\n      <td>0.315964</td>\n      <td>2.277027</td>\n    </tr>\n    <tr>\n      <th>1</th>\n      <td>Denmark</td>\n      <td>2</td>\n      <td>7.522</td>\n      <td>7.581728</td>\n      <td>7.462272</td>\n      <td>1.482383</td>\n      <td>1.551122</td>\n      <td>0.792566</td>\n      <td>0.626007</td>\n      <td>0.355280</td>\n      <td>0.400770</td>\n      <td>2.313707</td>\n    </tr>\n  </tbody>\n</table>\n</div>"
     },
     "metadata": {}
    }
   ],
   "source": [
    "df = pd.read_csv('../data/felicidad_corrupt.csv')\n",
    "\n",
    "display(df.info())\n",
    "display(df.head(2))"
   ]
  },
  {
   "cell_type": "code",
   "execution_count": 3,
   "metadata": {
    "tags": []
   },
   "outputs": [
    {
     "output_type": "stream",
     "name": "stdout",
     "text": "x \n   Train:  (116, 10) \n   Test:   (51, 10) \n\nY \n   Train:  (116,) \n   Test:   (51,) \n\n"
    }
   ],
   "source": [
    "x = df.drop(columns=['country', 'score'])\n",
    "y = df['score']\n",
    "\n",
    "x_train, x_test, y_train, y_test = train_test_split(x, y, test_size=0.3, random_state=1)\n",
    "print(f'x \\n   Train:  {x_train.shape} \\n   Test:   {x_test.shape} \\n')\n",
    "print(f'Y \\n   Train:  {y_train.shape} \\n   Test:   {y_test.shape} \\n')"
   ]
  },
  {
   "cell_type": "code",
   "execution_count": 4,
   "metadata": {
    "tags": []
   },
   "outputs": [
    {
     "output_type": "stream",
     "name": "stdout",
     "text": "HUBER \n   MSE:   1.172500699185358e-06 \n   SCORE: 100.00%\n\nSVR \n   MSE:   0.04249215616531833 \n   SCORE: 97.40%\n\nRANSAC \n   MSE:   1.731465916095798e-19 \n   SCORE: 100.00%\n\n"
    }
   ],
   "source": [
    "models = {\n",
    "    'HUBER' : HuberRegressor(epsilon=1.35),\n",
    "    'SVR' : SVR(gamma='auto', C=1.0, epsilon=0.1),\n",
    "    'RANSAC' : RANSACRegressor()\n",
    "}\n",
    "\n",
    "for name, model in models.items():\n",
    "    model.fit(x_train, y_train)\n",
    "    y_hat = model.predict(x_test)\n",
    "    error = mean_squared_error(y_test, y_hat)\n",
    "    score = model.score(x_test, y_test)\n",
    "    print('{name} \\n   MSE:   {error} \\n   SCORE: {score:.2%}\\n'.format(error=error, name=name, score=score))"
   ]
  }
 ],
 "metadata": {
  "language_info": {
   "codemirror_mode": {
    "name": "ipython",
    "version": 3
   },
   "file_extension": ".py",
   "mimetype": "text/x-python",
   "name": "python",
   "nbconvert_exporter": "python",
   "pygments_lexer": "ipython3",
   "version": "3.7.6-final"
  },
  "orig_nbformat": 2,
  "kernelspec": {
   "name": "python_defaultSpec_1594695022046",
   "display_name": "Python 3.7.6 64-bit ('ai': conda)"
  }
 },
 "nbformat": 4,
 "nbformat_minor": 2
}